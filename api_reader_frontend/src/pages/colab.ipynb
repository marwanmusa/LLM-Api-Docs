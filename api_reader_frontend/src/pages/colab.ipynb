{
 "cells": [
  {
   "cell_type": "code",
   "execution_count": 2,
   "metadata": {},
   "outputs": [
    {
     "name": "stdout",
     "output_type": "stream",
     "text": [
      "Hello from JavaScript!\n"
     ]
    }
   ],
   "source": [
    "console.log(\"Hello from JavaScript!\");"
   ]
  },
  {
   "cell_type": "code",
   "execution_count": 3,
   "metadata": {},
   "outputs": [
    {
     "name": "stdout",
     "output_type": "stream",
     "text": [
      "[ 'ooo', 'o', 'o', 'oo' ]\n"
     ]
    }
   ],
   "source": [
    "let text = \"Hellooo World! Hello W3Schools!\";\n",
    "let result = text.match(/o+/g);\n",
    "console.log(result);"
   ]
  },
  {
   "cell_type": "code",
   "execution_count": 6,
   "metadata": {},
   "outputs": [
    {
     "name": "stdout",
     "output_type": "stream",
     "text": [
      "5\n"
     ]
    }
   ],
   "source": [
    "var x = 5;\n",
    "console.log(x);"
   ]
  },
  {
   "cell_type": "code",
   "execution_count": 8,
   "metadata": {},
   "outputs": [
    {
     "name": "stdout",
     "output_type": "stream",
     "text": [
      "adddlert is not defined\n"
     ]
    }
   ],
   "source": [
    "try {\n",
    "  adddlert(\"Welcome guest!\");\n",
    "}\n",
    "catch(err) {\n",
    "  console.log(err.message);\n",
    "}"
   ]
  },
  {
   "cell_type": "code",
   "execution_count": 15,
   "metadata": {},
   "outputs": [
    {
     "ename": "ReferenceError",
     "evalue": "document is not defined",
     "output_type": "error",
     "traceback": [
      "evalmachine.<anonymous>:5",
      "    document.getElementById(\"demo\").innerHTML = err.name;",
      "    ^",
      "",
      "ReferenceError: document is not defined",
      "    at evalmachine.<anonymous>:5:5",
      "    at Script.runInThisContext (node:vm:121:12)",
      "    at Object.runInThisContext (node:vm:297:38)",
      "    at run ([eval]:1020:15)",
      "    at onRunRequest ([eval]:864:18)",
      "    at onMessage ([eval]:828:13)",
      "    at process.emit (node:events:517:28)",
      "    at emit (node:internal/child_process:944:14)",
      "    at process.processTicksAndRejections (node:internal/process/task_queues:83:21)"
     ]
    }
   ],
   "source": [
    "try {\n",
    "    eval(\"alert('Hello)\");   // Missing ' will produce an error\n",
    "  }\n",
    "  catch(err) {\n",
    "    document.getElementById(\"demo\").innerHTML = err.name;\n",
    "  }"
   ]
  },
  {
   "cell_type": "code",
   "execution_count": null,
   "metadata": {},
   "outputs": [
    {
     "name": "stdout",
     "output_type": "stream",
     "text": [
      "[ 'a', 'e', 'a', 'e', 'e', 'e' ]\n"
     ]
    },
    {
     "ename": "",
     "evalue": "",
     "output_type": "error",
     "traceback": [
      "\u001b[1;31mThe Kernel crashed while executing code in the current cell or a previous cell. \n",
      "\u001b[1;31mPlease review the code in the cell(s) to identify a possible cause of the failure. \n",
      "\u001b[1;31mClick <a href='https://aka.ms/vscodeJupyterKernelCrash'>here</a> for more info. \n",
      "\u001b[1;31mView Jupyter <a href='command:jupyter.viewOutput'>log</a> for further details."
     ]
    }
   ],
   "source": [
    "var txt = 'Ladies and gentlemen';\n",
    "var x = txt.match(/[abce]/ig);\n",
    "console.log(x);"
   ]
  }
 ],
 "metadata": {
  "kernelspec": {
   "display_name": "JavaScript (Node.js)",
   "language": "javascript",
   "name": "javascript"
  },
  "language_info": {
   "file_extension": ".js",
   "mimetype": "application/javascript",
   "name": "javascript",
   "version": "18.20.6"
  }
 },
 "nbformat": 4,
 "nbformat_minor": 4
}
